{
 "cells": [
  {
   "cell_type": "code",
   "execution_count": 1,
   "metadata": {},
   "outputs": [],
   "source": [
    "import matplotlib.pyplot as plt\n",
    "import pandas as pd\n",
    "import yaml\n",
    "import hydra\n",
    "import torch\n",
    "import torch.nn as nn\n",
    "import torch.nn.functional as F\n",
    "import numpy as np\n",
    "import pandas as pd\n",
    "import torchvision.transforms as transforms\n",
    "import numpy as np\n",
    "import os\n",
    "import pickle as pkl\n",
    "from pathlib import Path\n",
    "import cv2\n",
    "import imageio\n",
    "import ipdb\n",
    "\n",
    "from compare_traj import supervisedTraj"
   ]
  },
  {
   "cell_type": "code",
   "execution_count": 2,
   "metadata": {},
   "outputs": [],
   "source": [
    "# Load the YAML configuration file\n",
    "with open('/home/lgeng/BAKU/baku/cfgs/config_traj.yaml', 'r') as file:\n",
    "    config = yaml.safe_load(file)\n",
    "\n",
    "device = torch.device(config['device'])"
   ]
  },
  {
   "cell_type": "code",
   "execution_count": 10,
   "metadata": {},
   "outputs": [
    {
     "name": "stdout",
     "output_type": "stream",
     "text": [
      "number of parameters: 6.96M\n"
     ]
    }
   ],
   "source": [
    "supervised_model_path = \"/home/lgeng/BAKU/baku/exp_local/eval/2024.08.01_supervised_train/deterministic/153103_hidden_dim_256/supervised_model.pth\"\n",
    "# new checkpoint: /home/lgeng/BAKU/baku/exp_local/eval/2024.07.28_supervised_train/deterministic/225134_hidden_dim_256/supervised_model.pth\n",
    "# works well: /home/lgeng/BAKU/baku/exp_local/eval/2024.07.16_supervised_train/deterministic/135045_hidden_dim_256/supervised_model.pth\n",
    "model = supervisedTraj().to(device)"
   ]
  },
  {
   "cell_type": "code",
   "execution_count": 11,
   "metadata": {},
   "outputs": [
    {
     "data": {
      "text/plain": [
       "supervisedTraj(\n",
       "  (encoder): GPT(\n",
       "    (transformer): ModuleDict(\n",
       "      (wte): Linear(in_features=512, out_features=512, bias=True)\n",
       "      (wpe): Embedding(256, 512)\n",
       "      (drop): Dropout(p=0.1, inplace=False)\n",
       "      (h): ModuleList(\n",
       "        (0-1): 2 x Block(\n",
       "          (ln_1): LayerNorm((512,), eps=1e-05, elementwise_affine=True)\n",
       "          (attn): CausalSelfAttention(\n",
       "            (c_attn): Linear(in_features=512, out_features=1536, bias=True)\n",
       "            (c_proj): Linear(in_features=512, out_features=512, bias=True)\n",
       "            (attn_dropout): Dropout(p=0.1, inplace=False)\n",
       "            (resid_dropout): Dropout(p=0.1, inplace=False)\n",
       "          )\n",
       "          (ln_2): LayerNorm((512,), eps=1e-05, elementwise_affine=True)\n",
       "          (mlp): MLP(\n",
       "            (c_fc): Linear(in_features=512, out_features=2048, bias=True)\n",
       "            (c_proj): Linear(in_features=2048, out_features=512, bias=True)\n",
       "            (dropout): Dropout(p=0.1, inplace=False)\n",
       "          )\n",
       "        )\n",
       "      )\n",
       "      (ln_f): LayerNorm((512,), eps=1e-05, elementwise_affine=True)\n",
       "    )\n",
       "    (lm_head): Linear(in_features=512, out_features=512, bias=False)\n",
       "  )\n",
       "  (projection): Linear(in_features=512, out_features=1, bias=True)\n",
       "  (criterion): BCEWithLogitsLoss()\n",
       ")"
      ]
     },
     "execution_count": 11,
     "metadata": {},
     "output_type": "execute_result"
    }
   ],
   "source": [
    "model.load_state_dict(torch.load(supervised_model_path))\n",
    "model.eval()"
   ]
  },
  {
   "cell_type": "code",
   "execution_count": 5,
   "metadata": {},
   "outputs": [],
   "source": [
    "data_path = \"/home/lgeng/BAKU/expert_demos/libero/libero_single_task_success_failure/KITCHEN_SCENE1_open_the_bottom_drawer_of_the_cabinet_eval_failure_big.pkl\""
   ]
  },
  {
   "cell_type": "code",
   "execution_count": 6,
   "metadata": {},
   "outputs": [
    {
     "name": "stdout",
     "output_type": "stream",
     "text": [
      "Loading /home/lgeng/BAKU/expert_demos/libero/libero_single_task_success_failure/KITCHEN_SCENE1_open_the_bottom_drawer_of_the_cabinet_eval_failure_big.pkl\n"
     ]
    }
   ],
   "source": [
    "print(f\"Loading {data_path}\")\n",
    "# read\n",
    "data = pkl.load(open((data_path), \"rb\"))\n",
    "observations = data[\"observations\"]\n",
    "actions = data[\"actions\"]\n",
    "task_emb = data[\"task_emb\"]\n",
    "aug = transforms.Compose(\n",
    "    [\n",
    "        transforms.ToPILImage(),\n",
    "        transforms.ToTensor(),\n",
    "    ]\n",
    "    )\n",
    "# store\n",
    "episodes = []\n",
    "for i in range(len(observations)):\n",
    "    episode = dict(\n",
    "        observation=observations[i],\n",
    "        action=actions[i],\n",
    "        task_emb=task_emb,\n",
    "    )\n",
    "    episodes.append(episode)\n",
    "    # self._max_episode_len = max(\n",
    "    #     self._max_episode_len,\n",
    "    #     (\n",
    "    #         len(observations[i])\n",
    "    #         if not isinstance(observations[i], dict)\n",
    "    #         else len(observations[i][\"pixels\"])\n",
    "    #     ),\n",
    "    # )\n",
    "    # # if obs_type == 'features':\n",
    "    # self._max_state_dim = max(\n",
    "    #     self._max_state_dim, data[\"states\"][i].shape[-1]\n",
    "    # ) if \"states\" in data.keys() else 0\n",
    "    # self._num_samples += (\n",
    "    #     len(observations[i])\n",
    "    #     if self._obs_type == \"features\"\n",
    "    #     else len(observations[i][\"pixels\"])\n",
    "    # )"
   ]
  },
  {
   "cell_type": "code",
   "execution_count": 7,
   "metadata": {},
   "outputs": [],
   "source": [
    "# Import necessary Hydra functions\n",
    "from hydra.core.global_hydra import GlobalHydra\n",
    "from hydra.experimental import initialize, compose\n",
    "from omegaconf import OmegaConf\n",
    "from pathlib import Path\n",
    "\n",
    "# Check if Hydra is already initialized, and clear it if it is\n",
    "if GlobalHydra.instance().is_initialized():\n",
    "    GlobalHydra.instance().clear()\n",
    "# Manually initialize Hydra and get the configuration object\n",
    "initialize(config_path=\"cfgs\")\n",
    "cfg = compose(config_name=\"config_traj\")"
   ]
  },
  {
   "cell_type": "code",
   "execution_count": 8,
   "metadata": {},
   "outputs": [
    {
     "name": "stdout",
     "output_type": "stream",
     "text": [
      "workspace: /home/lgeng/BAKU/baku\n",
      "Loading /home/lgeng/BAKU/expert_demos/libero/libero_single_task_success_failure/KITCHEN_SCENE1_open_the_bottom_drawer_of_the_cabinet_big.pkl\n",
      "Loading /home/lgeng/BAKU/expert_demos/libero/libero_single_task_success_failure/KITCHEN_SCENE1_open_the_bottom_drawer_of_the_cabinet_failure_big.pkl\n",
      "Loading /home/lgeng/BAKU/expert_demos/libero/libero_single_task_success_failure/KITCHEN_SCENE1_open_the_bottom_drawer_of_the_cabinet_eval_failure_big.pkl\n",
      "Loading /home/lgeng/BAKU/expert_demos/libero/libero_single_task_success_failure/KITCHEN_SCENE1_open_the_bottom_drawer_of_the_cabinet_eval_big.pkl\n"
     ]
    },
    {
     "name": "stderr",
     "output_type": "stream",
     "text": [
      "\n",
      "\u001b[1m\u001b[33m[robosuite WARNING] \u001b[0mNo private macro file found! (macros.py:53)\n",
      "\u001b[1m\u001b[33m[robosuite WARNING] \u001b[0mIt is recommended to use a private macro file (macros.py:54)\n",
      "\u001b[1m\u001b[33m[robosuite WARNING] \u001b[0mTo setup, run: python /home/lgeng/miniforge3/envs/baku/lib/python3.9/site-packages/robosuite/scripts/setup_macros.py (macros.py:55)\n"
     ]
    },
    {
     "name": "stdout",
     "output_type": "stream",
     "text": [
      "number of parameters: 6.53M\n",
      "number of parameters: 25.88M\n",
      "number of parameters: 25.88M\n",
      "number of parameters: 25.88M\n",
      "number of parameters: 6.96M\n",
      "loading bc weight: /home/lgeng/BAKU/baku/exp_local/2024.06.26_train/deterministic/225305_hidden_dim_256/snapshot/80000.pt\n"
     ]
    },
    {
     "data": {
      "text/plain": [
       "ResnetEncoder(\n",
       "  (resnet18_base): Sequential(\n",
       "    (0): Conv2d(3, 64, kernel_size=(7, 7), stride=(2, 2), padding=(3, 3), bias=False)\n",
       "    (1): GroupNorm(8, 64, eps=1e-05, affine=True)\n",
       "    (2): ReLU(inplace=True)\n",
       "    (3): MaxPool2d(kernel_size=3, stride=2, padding=1, dilation=1, ceil_mode=False)\n",
       "  )\n",
       "  (block_1): BasicBlock(\n",
       "    (conv1): Conv2d(64, 64, kernel_size=(3, 3), stride=(1, 1), padding=(1, 1), bias=False)\n",
       "    (bn1): GroupNorm(8, 64, eps=1e-05, affine=True)\n",
       "    (relu): ReLU(inplace=True)\n",
       "    (conv2): Conv2d(64, 64, kernel_size=(3, 3), stride=(1, 1), padding=(1, 1), bias=False)\n",
       "    (bn2): GroupNorm(8, 64, eps=1e-05, affine=True)\n",
       "  )\n",
       "  (block_2): BasicBlock(\n",
       "    (conv1): Conv2d(64, 64, kernel_size=(3, 3), stride=(1, 1), padding=(1, 1), bias=False)\n",
       "    (bn1): GroupNorm(8, 64, eps=1e-05, affine=True)\n",
       "    (relu): ReLU(inplace=True)\n",
       "    (conv2): Conv2d(64, 64, kernel_size=(3, 3), stride=(1, 1), padding=(1, 1), bias=False)\n",
       "    (bn2): GroupNorm(8, 64, eps=1e-05, affine=True)\n",
       "  )\n",
       "  (block_3): BasicBlock(\n",
       "    (conv1): Conv2d(64, 128, kernel_size=(3, 3), stride=(2, 2), padding=(1, 1), bias=False)\n",
       "    (bn1): GroupNorm(8, 128, eps=1e-05, affine=True)\n",
       "    (relu): ReLU(inplace=True)\n",
       "    (conv2): Conv2d(128, 128, kernel_size=(3, 3), stride=(1, 1), padding=(1, 1), bias=False)\n",
       "    (bn2): GroupNorm(8, 128, eps=1e-05, affine=True)\n",
       "    (downsample): Sequential(\n",
       "      (0): Conv2d(64, 128, kernel_size=(1, 1), stride=(2, 2), bias=False)\n",
       "      (1): GroupNorm(8, 128, eps=1e-05, affine=True)\n",
       "    )\n",
       "  )\n",
       "  (block_4): BasicBlock(\n",
       "    (conv1): Conv2d(128, 128, kernel_size=(3, 3), stride=(1, 1), padding=(1, 1), bias=False)\n",
       "    (bn1): GroupNorm(8, 128, eps=1e-05, affine=True)\n",
       "    (relu): ReLU(inplace=True)\n",
       "    (conv2): Conv2d(128, 128, kernel_size=(3, 3), stride=(1, 1), padding=(1, 1), bias=False)\n",
       "    (bn2): GroupNorm(8, 128, eps=1e-05, affine=True)\n",
       "  )\n",
       "  (lang_proj1): Linear(in_features=512, out_features=128, bias=True)\n",
       "  (lang_proj2): Linear(in_features=512, out_features=128, bias=True)\n",
       "  (lang_proj3): Linear(in_features=512, out_features=256, bias=True)\n",
       "  (lang_proj4): Linear(in_features=512, out_features=256, bias=True)\n",
       "  (projection_layer): SpatialProjection(\n",
       "    (spatial_softmax): SpatialSoftmax(\n",
       "      (_spatial_conv): Conv2d(128, 256, kernel_size=(1, 1), stride=(1, 1))\n",
       "    )\n",
       "    (projection): Linear(in_features=512, out_features=512, bias=True)\n",
       "  )\n",
       ")"
      ]
     },
     "execution_count": 8,
     "metadata": {},
     "output_type": "execute_result"
    }
   ],
   "source": [
    "from compare_traj import WorkspaceIL as W\n",
    "\n",
    "workspace = W(cfg)\n",
    "\n",
    "# Load weights\n",
    "snapshots = {}\n",
    "# bc\n",
    "bc_snapshot = Path(cfg.bc_weight)\n",
    "if not bc_snapshot.exists():\n",
    "    raise FileNotFoundError(f\"bc weight not found: {bc_snapshot}\")\n",
    "print(f\"loading bc weight: {bc_snapshot}\")\n",
    "snapshots[\"bc\"] = bc_snapshot\n",
    "workspace.load_snapshot(snapshots)\n",
    "\n",
    "language_projector = workspace.agent.language_projector\n",
    "language_projector.eval()\n",
    "encoder = workspace.agent.encoder\n",
    "encoder.eval()"
   ]
  },
  {
   "cell_type": "code",
   "execution_count": 12,
   "metadata": {},
   "outputs": [],
   "source": [
    "indices = []\n",
    "\n",
    "VIDEO_FILENAME = \"videos\"\n",
    "filename_with_extension = os.path.basename(data_path)\n",
    "filename_without_extension, _ = os.path.splitext(filename_with_extension)\n",
    "save_dir = os.path.join(os.path.dirname(data_path), VIDEO_FILENAME, filename_without_extension)\n",
    "os.makedirs(save_dir, exist_ok=True)\n",
    "height, width = 128, 128\n",
    "\n",
    "for i, episode in enumerate(episodes):\n",
    "    traj = episode[\"observation\"]['pixels']\n",
    "    # Save the video in the created directory\n",
    "    images = [img.astype('uint8') for img in traj]\n",
    "    video_path = os.path.join(save_dir, f'{i}.mp4')\n",
    "    imageio.mimsave(video_path, images, fps=20)\n",
    "    \n",
    "    traj_np = traj\n",
    "    traj = torch.stack(\n",
    "        [aug(traj[i]) for i in range(len(traj))]\n",
    "    ).to(device).float()\n",
    "\n",
    "    task_emb = torch.tensor(task_emb).to(device).float()\n",
    "\n",
    "    with torch.no_grad():\n",
    "        lang_features = language_projector(task_emb[None]).repeat(traj.shape[0], 1)\n",
    "        traj = encoder(traj, lang=lang_features)\n",
    "    \n",
    "    traj_batch = traj.unsqueeze(0)\n",
    "    label_batch = torch.tensor([0]).to(device)\n",
    "    batch = [traj_batch, label_batch]\n",
    "\n",
    "    # Predict\n",
    "    pred = model.show_prob(batch)\n",
    "\n",
    "    pred_np = pred[0].detach().cpu().numpy()[0]\n",
    "\n",
    "    # Initialize VideoWriter for each episode\n",
    "    output_video_path = os.path.join(save_dir, f'output_{i}.mp4')\n",
    "\n",
    "    # Load the video\n",
    "    cap = cv2.VideoCapture(video_path)\n",
    "    frames = []\n",
    "    for i, frame in enumerate(traj_np):\n",
    "        # Capture frames in the video \n",
    "        ret, frame = cap.read() \n",
    "        prob_text = f\"Prob: {pred_np[i]:.2f}\" if i < len(pred_np) else \"\"\n",
    "        # Use putText() method for inserting text on video \n",
    "        cv2.putText(frame,  \n",
    "                    prob_text,  \n",
    "                    (25, 25),  \n",
    "                    cv2.FONT_HERSHEY_SIMPLEX, 0.5,  \n",
    "                    (255, 255, 255), \n",
    "                    2,  \n",
    "                    cv2.LINE_4) \n",
    "        frames.append(frame)\n",
    "    # Release the VideoCapture object\n",
    "    cap.release()\n",
    "    # Save the video\n",
    "    imageio.mimsave(output_video_path, frames, fps=20)\n",
    "\n",
    "    # Get the index of first prob in the pred sequence that is below .5\n",
    "    below_half = np.where(pred_np < .55)[0]\n",
    "    indices.append(below_half[0] if len(below_half) > 0 else None)\n",
    "\n",
    "# close all windows \n",
    "cv2.destroyAllWindows() "
   ]
  }
 ],
 "metadata": {
  "kernelspec": {
   "display_name": "baku",
   "language": "python",
   "name": "python3"
  },
  "language_info": {
   "codemirror_mode": {
    "name": "ipython",
    "version": 3
   },
   "file_extension": ".py",
   "mimetype": "text/x-python",
   "name": "python",
   "nbconvert_exporter": "python",
   "pygments_lexer": "ipython3",
   "version": "3.9.19"
  }
 },
 "nbformat": 4,
 "nbformat_minor": 2
}
